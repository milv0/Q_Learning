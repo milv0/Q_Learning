{
 "cells": [
  {
   "cell_type": "code",
   "execution_count": 8,
   "metadata": {},
   "outputs": [
    {
     "name": "stdout",
     "output_type": "stream",
     "text": [
      "Requirement already satisfied: cmake in /Users/brianmg/.pyenv/versions/miniforge3-4.9.2/envs/qbz-env/lib/python3.11/site-packages (3.27.7)\n",
      "Requirement already satisfied: gym[atari] in /Users/brianmg/.pyenv/versions/miniforge3-4.9.2/envs/qbz-env/lib/python3.11/site-packages (0.26.2)\n",
      "Requirement already satisfied: scipy in /Users/brianmg/.pyenv/versions/miniforge3-4.9.2/envs/qbz-env/lib/python3.11/site-packages (1.10.1)\n",
      "Requirement already satisfied: numpy>=1.18.0 in /Users/brianmg/.pyenv/versions/miniforge3-4.9.2/envs/qbz-env/lib/python3.11/site-packages (from gym[atari]) (1.24.3)\n",
      "Requirement already satisfied: cloudpickle>=1.2.0 in /Users/brianmg/.pyenv/versions/miniforge3-4.9.2/envs/qbz-env/lib/python3.11/site-packages (from gym[atari]) (3.0.0)\n",
      "Requirement already satisfied: gym-notices>=0.0.4 in /Users/brianmg/.pyenv/versions/miniforge3-4.9.2/envs/qbz-env/lib/python3.11/site-packages (from gym[atari]) (0.0.8)\n",
      "Requirement already satisfied: ale-py~=0.8.0 in /Users/brianmg/.pyenv/versions/miniforge3-4.9.2/envs/qbz-env/lib/python3.11/site-packages (from gym[atari]) (0.8.1)\n",
      "Requirement already satisfied: importlib-resources in /Users/brianmg/.pyenv/versions/miniforge3-4.9.2/envs/qbz-env/lib/python3.11/site-packages (from ale-py~=0.8.0->gym[atari]) (6.1.1)\n",
      "Note: you may need to restart the kernel to use updated packages.\n"
     ]
    }
   ],
   "source": [
    "%pip install cmake 'gym[atari]' scipy gym"
   ]
  },
  {
   "cell_type": "code",
   "execution_count": 9,
   "metadata": {},
   "outputs": [
    {
     "name": "stdout",
     "output_type": "stream",
     "text": [
      "+---------+\n",
      "|\u001b[35mR\u001b[0m: | : :\u001b[34;1mG\u001b[0m|\n",
      "| : | : : |\n",
      "| : : : : |\n",
      "| | :\u001b[43m \u001b[0m| : |\n",
      "|Y| : |B: |\n",
      "+---------+\n",
      "\n",
      "\n"
     ]
    }
   ],
   "source": [
    "import gym\n",
    "\n",
    "env = gym.make(\"Taxi-v3\", render_mode=\"ansi\").env\n",
    "env.reset( )\n",
    "print(env.render())"
   ]
  },
  {
   "cell_type": "code",
   "execution_count": 10,
   "metadata": {},
   "outputs": [
    {
     "name": "stdout",
     "output_type": "stream",
     "text": [
      "Action Space Discrete(6)\n",
      "State Space Discrete(500)\n"
     ]
    }
   ],
   "source": [
    "env.reset()\n",
    "env.render()\n",
    "\n",
    "print(\"Action Space {}\".format(env.action_space))\n",
    "print(\"State Space {}\".format(env.observation_space))"
   ]
  },
  {
   "cell_type": "code",
   "execution_count": 41,
   "metadata": {},
   "outputs": [
    {
     "name": "stdout",
     "output_type": "stream",
     "text": [
      "Timesteps taken: 62\n",
      "Penalties incurred : 62\n"
     ]
    }
   ],
   "source": [
    "env.s = 328 # set environment to illustration's state\n",
    "\n",
    "epochs = 0\n",
    "penalties, reward = 0, 0\n",
    "\n",
    "frames = []\n",
    "\n",
    "done = False\n",
    "\n",
    "while not done :\n",
    "    action = env.action_space.sample() # 택시가 각 스텝에서 무작위 행동 선택\n",
    "    state, reward, done, info, _ = env.step(action)\n",
    "    \n",
    "    if reward == -10:\n",
    "        penalties += 1\n",
    "        \n",
    "        frames.append({\n",
    "            'frame' : env.render(),\n",
    "            'state' : state,\n",
    "            'action' : action,\n",
    "            'reward' : reward\n",
    "        })\n",
    "        epochs += 1\n",
    "        \n",
    "print('Timesteps taken: {}'.format(epochs))\n",
    "print('Penalties incurred : {}'.format(penalties))\n"
   ]
  },
  {
   "cell_type": "code",
   "execution_count": 43,
   "metadata": {},
   "outputs": [
    {
     "name": "stdout",
     "output_type": "stream",
     "text": [
      "+---------+\n",
      "|R: | : :G|\n",
      "| : | : : |\n",
      "| : : : : |\n",
      "| | : | : |\n",
      "|\u001b[35m\u001b[42mY\u001b[0m\u001b[0m| : |B: |\n",
      "+---------+\n",
      "  (Pickup)\n",
      "\n",
      "Timestep: 62\n",
      "State: 418\n",
      "Action: 4\n",
      "Reward: -10\n"
     ]
    }
   ],
   "source": [
    "from IPython.display import clear_output\n",
    "from time import sleep\n",
    "\n",
    "def print_frames(frames):\n",
    "    for i, frame in enumerate(frames):\n",
    "        clear_output(wait=True)\n",
    "        print(frame['frame'])\n",
    "        print(f'Timestep: {i + 1}')\n",
    "        print(f\"State: {frame['state']}\")\n",
    "        print(f\"Action: {frame['action']}\")\n",
    "        print(f\"Reward: {frame['reward']}\")\n",
    "        sleep(.1)\n",
    "\n",
    "print_frames(frames)"
   ]
  },
  {
   "cell_type": "code",
   "execution_count": 44,
   "metadata": {},
   "outputs": [
    {
     "name": "stdout",
     "output_type": "stream",
     "text": [
      "(181, {'prob': 1.0, 'action_mask': array([1, 1, 0, 1, 0, 0], dtype=int8)})\n",
      "[1 1 0 1 0 0]\n"
     ]
    }
   ],
   "source": [
    "import numpy as np\n",
    "\n",
    "q_tabel = np.zeros([env.observation_space.n, env.action_space.n])\n",
    "\n",
    "state = env.reset()\n",
    "type(state)\n",
    "print(state)\n",
    "print(state[1]['action_mask'])"
   ]
  },
  {
   "cell_type": "code",
   "execution_count": 45,
   "metadata": {},
   "outputs": [
    {
     "name": "stdout",
     "output_type": "stream",
     "text": [
      "Episode : 100000\n",
      "Training finished.\n",
      "\n"
     ]
    }
   ],
   "source": [
    "# Q - Learning 코드 외우기 !!!\n",
    "import random\n",
    "from IPython.display import clear_output\n",
    "\n",
    "# 하이퍼파라미터\n",
    "alpha = 0.1  # 학습률\n",
    "gamma = 0.6  # 할인 계수\n",
    "epsilon = 0.1  # 탐색과 활용 사이의 균형을 맞추기 위한 입실론\n",
    "\n",
    "# 플로팅을 위한 메트릭\n",
    "all_epochs = []  # 각 에피소드별 시간(스텝)을 저장할 리스트\n",
    "all_penalties = []  # 각 에피소드별 패널티를 저장할 리스트\n",
    "\n",
    "# 100,000번의 에피소드를 반복하여 학습\n",
    "for i in range(1, 100001):\n",
    "    state = env.reset()  # 환경 초기화\n",
    "    state = env.s  # 환경의 초기 상태 설정\n",
    "    \n",
    "    # 에피소드별 변수 초기화\n",
    "    epochs, penalties, reward = 0, 0, 0\n",
    "    done = False\n",
    "    \n",
    "    # 에피소드가 끝날 때까지 반복\n",
    "    while not done:\n",
    "        # 입실론-그리디 정책에 따라 행동 결정\n",
    "        if random.uniform(0, 1) < epsilon:\n",
    "            action = env.action_space.sample()  # 탐색: 무작위 행동 선택\n",
    "        else:\n",
    "            action = np.argmax(q_tabel[state])  # 활용: 학습된 가치를 기반으로 행동 선택\n",
    "        \n",
    "        # 선택한 행동을 환경에 적용\n",
    "        next_state, reward, done, info , _ = env.step(action)\n",
    "        \n",
    "        # Q-테이블을 업데이트\n",
    "        old_value = q_tabel[state, action]\n",
    "        next_max = np.max(q_tabel[next_state])\n",
    "        \n",
    "        # 새로운 Q-가치 계산\n",
    "        new_value = (1 - alpha) * old_value + alpha * (reward + gamma * next_max)\n",
    "        q_tabel[state, action] = new_value\n",
    "        \n",
    "        # 패널티 체크\n",
    "        if reward == -10:\n",
    "            penalties += 1\n",
    "        \n",
    "        # 상태와 스텝 수 업데이트\n",
    "        state = next_state\n",
    "        epochs += 1\n",
    "        \n",
    "    # 로그 출력\n",
    "    if i % 100 == 0:\n",
    "        clear_output(wait=True)\n",
    "        print(f\"Episode : {i}\")\n",
    "\n",
    "print(\"Training finished.\\n\")  # 학습 완료 메시지 출력\n"
   ]
  },
  {
   "cell_type": "code",
   "execution_count": 46,
   "metadata": {},
   "outputs": [
    {
     "data": {
      "text/plain": [
       "array([ -2.45575536,  -2.46463913,  -2.45037881,  -2.46483584,\n",
       "       -10.92842574, -11.34750765])"
      ]
     },
     "execution_count": 46,
     "metadata": {},
     "output_type": "execute_result"
    }
   ],
   "source": [
    "q_tabel[328]"
   ]
  },
  {
   "cell_type": "code",
   "execution_count": 47,
   "metadata": {},
   "outputs": [
    {
     "name": "stdout",
     "output_type": "stream",
     "text": [
      "+---------+\n",
      "|\u001b[35m\u001b[34;1m\u001b[43mR\u001b[0m\u001b[0m\u001b[0m: | : :G|\n",
      "| : | : : |\n",
      "| : : : : |\n",
      "| | : | : |\n",
      "|Y| : |B: |\n",
      "+---------+\n",
      "  (Dropoff)\n",
      "\n",
      "Result after 10 episodes\n",
      "Average timesteps per episode : 14.4\n",
      "Average penalties per episode : 0.0\n"
     ]
    }
   ],
   "source": [
    "total_epochs, total_penalties = 0, 0\n",
    "episodes = 10\n",
    "\n",
    "for _ in range(episodes):\n",
    "    state = env.reset()\n",
    "    state = env.s\n",
    "    epochs, penalties, reward = 0, 0, 0\n",
    "    \n",
    "    done = False\n",
    "    \n",
    "    while not done:\n",
    "        clear_output(wait=True)\n",
    "        action = np.argmax(q_tabel[state])\n",
    "        state, reward, done, info, _ = env.step(action)\n",
    "        \n",
    "        if reward == -10:\n",
    "            penalties += 1\n",
    "            \n",
    "        epochs += 1\n",
    "        print(env.render())\n",
    "        sleep(.1)\n",
    "        \n",
    "    total_penalties += penalties\n",
    "    total_epochs += epochs\n",
    "    \n",
    "print(f\"Result after {episodes} episodes\")\n",
    "print(f\"Average timesteps per episode : {total_epochs / episodes}\")\n",
    "print(f\"Average penalties per episode : {total_penalties / episodes}\")\n"
   ]
  }
 ],
 "metadata": {
  "kernelspec": {
   "display_name": "qbz-env",
   "language": "python",
   "name": "python3"
  },
  "language_info": {
   "codemirror_mode": {
    "name": "ipython",
    "version": 3
   },
   "file_extension": ".py",
   "mimetype": "text/x-python",
   "name": "python",
   "nbconvert_exporter": "python",
   "pygments_lexer": "ipython3",
   "version": "3.11.3"
  }
 },
 "nbformat": 4,
 "nbformat_minor": 2
}
